{
 "cells": [
  {
   "cell_type": "code",
   "execution_count": 1,
   "id": "24808b28-736f-4ad4-9f24-c6f025764f82",
   "metadata": {},
   "outputs": [],
   "source": [
    "import pandas as pd"
   ]
  },
  {
   "cell_type": "code",
   "execution_count": 10,
   "id": "f2874f9f-6c48-4eb3-a971-2444248fe093",
   "metadata": {},
   "outputs": [],
   "source": [
    "df = pd.read_csv(r'powerlifting_dataset.csv')"
   ]
  },
  {
   "cell_type": "code",
   "execution_count": 11,
   "id": "3192fbcb-b29b-4287-8b6e-09ebe6364251",
   "metadata": {},
   "outputs": [],
   "source": [
    "duplicates = df.duplicated()"
   ]
  },
  {
   "cell_type": "code",
   "execution_count": 12,
   "id": "8601be12-d8ca-4e09-a1a6-5ce21ebcca83",
   "metadata": {},
   "outputs": [
    {
     "data": {
      "text/plain": [
       "1"
      ]
     },
     "execution_count": 12,
     "metadata": {},
     "output_type": "execute_result"
    }
   ],
   "source": [
    "sum(duplicates)"
   ]
  },
  {
   "cell_type": "code",
   "execution_count": 14,
   "id": "2ef3a8a0-0929-45b2-9b8d-4293d13ef3e8",
   "metadata": {},
   "outputs": [
    {
     "data": {
      "text/html": [
       "<div>\n",
       "<style scoped>\n",
       "    .dataframe tbody tr th:only-of-type {\n",
       "        vertical-align: middle;\n",
       "    }\n",
       "\n",
       "    .dataframe tbody tr th {\n",
       "        vertical-align: top;\n",
       "    }\n",
       "\n",
       "    .dataframe thead th {\n",
       "        text-align: right;\n",
       "    }\n",
       "</style>\n",
       "<table border=\"1\" class=\"dataframe\">\n",
       "  <thead>\n",
       "    <tr style=\"text-align: right;\">\n",
       "      <th></th>\n",
       "      <th>Lifter Name</th>\n",
       "      <th>Age</th>\n",
       "      <th>Weight Class</th>\n",
       "      <th>Lift Type</th>\n",
       "      <th>Amount Lifted (kg)</th>\n",
       "    </tr>\n",
       "  </thead>\n",
       "  <tbody>\n",
       "    <tr>\n",
       "      <th>2229</th>\n",
       "      <td>Michael Johnson</td>\n",
       "      <td>22</td>\n",
       "      <td>93 kg</td>\n",
       "      <td>Deadlift</td>\n",
       "      <td>116</td>\n",
       "    </tr>\n",
       "  </tbody>\n",
       "</table>\n",
       "</div>"
      ],
      "text/plain": [
       "          Lifter Name  Age Weight Class Lift Type  Amount Lifted (kg)\n",
       "2229  Michael Johnson   22        93 kg  Deadlift                 116"
      ]
     },
     "execution_count": 14,
     "metadata": {},
     "output_type": "execute_result"
    }
   ],
   "source": [
    "dup_list = df[duplicates]\n",
    "dup_list"
   ]
  },
  {
   "cell_type": "code",
   "execution_count": null,
   "id": "ed79a3f8-1208-42e8-afcf-451282f66df9",
   "metadata": {},
   "outputs": [],
   "source": []
  }
 ],
 "metadata": {
  "kernelspec": {
   "display_name": "Python 3 (ipykernel)",
   "language": "python",
   "name": "python3"
  },
  "language_info": {
   "codemirror_mode": {
    "name": "ipython",
    "version": 3
   },
   "file_extension": ".py",
   "mimetype": "text/x-python",
   "name": "python",
   "nbconvert_exporter": "python",
   "pygments_lexer": "ipython3",
   "version": "3.12.2"
  }
 },
 "nbformat": 4,
 "nbformat_minor": 5
}
